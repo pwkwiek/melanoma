{
 "cells": [
  {
   "cell_type": "code",
   "execution_count": 22,
   "metadata": {},
   "outputs": [],
   "source": [
    "import os\n",
    "import cv2 \n",
    "\n",
    "main_directory = ('E:/melanoma/')\n",
    "sets = ['test','train','valid']\n",
    "types = ['melanoma','nevus','seborrheic_keratosis']\n",
    "color = ['rgb_b','rgb_g','rgb_r','hsv_h','hsv_s','hsv_v','yuv_y','yuv_u','yuv_v','lab_l','lab_a','lab_b']\n",
    "\n",
    "#create directories\n",
    "for s in sets:\n",
    "    for t in types:\n",
    "        for c in color:\n",
    "            try:\n",
    "                os.makedirs(main_directory + 'channels/'+ str(c)+'/'+str(s)+'/'+str(t)+'/')\n",
    "            except:\n",
    "                print('exists')\n",
    "\n",
    "for s in sets:\n",
    "    for t in types:\n",
    "        # assign directory\n",
    "        directory = main_directory+'skin-lesions/'+str(s)+'/'+str(t)\n",
    "\n",
    "        iter=-1\n",
    "        # iterate over files in directory\n",
    "        for filename in os.listdir(directory):\n",
    "            f = os.path.join(directory, filename)\n",
    "            # checking if it is a file\n",
    "            if os.path.isfile(f):\n",
    "\n",
    "                #read image\n",
    "                image=cv2.imread(f)\n",
    "                image_hsv=cv2.cvtColor(image, cv2.COLOR_BGR2HSV)\n",
    "                image_yuv=cv2.cvtColor(image, cv2.COLOR_BGR2YUV)\n",
    "                image_lab=cv2.cvtColor(image, cv2.COLOR_BGR2Lab)\n",
    "\n",
    "                #split the image into its three channels\n",
    "                channels = cv2.split(image)\n",
    "                channels = channels + cv2.split(image_hsv)\n",
    "                channels = channels + cv2.split(image_yuv)\n",
    "                channels = channels + cv2.split(image_lab)\n",
    "                i=-1\n",
    "                for c in color:\n",
    "                    # Using cv2.imwrite() method \n",
    "                    # Saving the image \n",
    "                    file = main_directory + 'channels/'+str(c)+'/'+str(s)+'/'+str(t)+'/'+filename\n",
    "                    cv2.imwrite(file, channels[i])\n",
    "                    i=i+1"
   ]
  }
 ],
 "metadata": {
  "kernelspec": {
   "display_name": "gollum",
   "language": "python",
   "name": "python3"
  },
  "language_info": {
   "codemirror_mode": {
    "name": "ipython",
    "version": 3
   },
   "file_extension": ".py",
   "mimetype": "text/x-python",
   "name": "python",
   "nbconvert_exporter": "python",
   "pygments_lexer": "ipython3",
   "version": "3.11.9"
  }
 },
 "nbformat": 4,
 "nbformat_minor": 2
}
