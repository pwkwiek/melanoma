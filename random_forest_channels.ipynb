{
 "cells": [
  {
   "cell_type": "code",
   "execution_count": null,
   "metadata": {},
   "outputs": [],
   "source": [
    "import pandas as pd \n",
    "import os \n",
    "from skimage.transform import resize \n",
    "from skimage.io import imread \n",
    "import numpy as np \n",
    "import matplotlib.pyplot as plt \n",
    "from sklearn import svm \n",
    "from sklearn.model_selection import GridSearchCV \n",
    "from sklearn.ensemble import RandomForestClassifier\n",
    "from sklearn.metrics import classification_report, confusion_matrix, accuracy_score"
   ]
  },
  {
   "cell_type": "code",
   "execution_count": null,
   "metadata": {},
   "outputs": [],
   "source": [
    "color = ['rgb_b','rgb_g','rgb_r','hsv_h','hsv_s','hsv_v','yuv_y','yuv_u','yuv_v','lab_l','lab_a','lab_b']"
   ]
  },
  {
   "cell_type": "code",
   "execution_count": null,
   "metadata": {},
   "outputs": [],
   "source": [
    "for c in color:\n",
    "    Categories=['nevus','melanoma','seborrheic_keratosis'] \n",
    "    flat_data_arr=[] #input array \n",
    "    target_arr=[] #output array \n",
    "    datadir='E:/melanoma/channels/'+str(c)+'/train' \n",
    "    #path which contains all the categories of images \n",
    "    for i in Categories: \n",
    "        print(f'loading... category : {i}') \n",
    "        path=os.path.join(datadir,i) \n",
    "        for img in os.listdir(path): \n",
    "            img_array=imread(os.path.join(path,img)) \n",
    "            img_resized=resize(img_array,(150,100,1)) \n",
    "            flat_data_arr.append(img_resized.flatten()) \n",
    "            target_arr.append(Categories.index(i)) \n",
    "        print(f'loaded category:{i} successfully') \n",
    "    flat_data=np.array(flat_data_arr) \n",
    "    target=np.array(target_arr)\n",
    "\n",
    "    #dataframe \n",
    "    df=pd.DataFrame(flat_data) \n",
    "    df['Target']=target \n",
    "    df.shape\n",
    "\n",
    "    #input data \n",
    "    x_train=df.iloc[:,:-1] \n",
    "    #output data \n",
    "    y_train=df.iloc[:,-1]\n",
    "\n",
    "    Categories=['nevus','melanoma','seborrheic_keratosis'] \n",
    "    flat_data_arr=[] #input array \n",
    "    target_arr=[] #output array \n",
    "    datadir='E:/melanoma/channels/hsv_h/test' \n",
    "    #path which contains all the categories of images \n",
    "    for i in Categories: \n",
    "        print(f'loading... category : {i}') \n",
    "        path=os.path.join(datadir,i) \n",
    "        for img in os.listdir(path): \n",
    "            img_array=imread(os.path.join(path,img)) \n",
    "            img_resized=resize(img_array,(150,100,1)) \n",
    "            flat_data_arr.append(img_resized.flatten()) \n",
    "            target_arr.append(Categories.index(i)) \n",
    "        print(f'loaded category:{i} successfully') \n",
    "    flat_data=np.array(flat_data_arr) \n",
    "    target=np.array(target_arr)\n",
    "\n",
    "    #dataframe \n",
    "    df=pd.DataFrame(flat_data) \n",
    "    df['Target']=target \n",
    "    df.shape\n",
    "\n",
    "    #input data \n",
    "    x_test=df.iloc[:,:-1] \n",
    "    #output data \n",
    "    y_test=df.iloc[:,-1]\n",
    "\n",
    "    # Random Forest Classification\n",
    "    clf = RandomForestClassifier(n_estimators=10, random_state=10)\n",
    "    clf.fit(x_train, y_train) # trenowanie klasyfikatora\n",
    "    y_test_pred = clf.predict(x_test)\n",
    "    # dokładność dla zbioru testowego\n",
    "    print('\\nAccuracy (test):', accuracy_score(y_test, y_test_pred))\n",
    "\n",
    "    # Confussion matrix and classification report\n",
    "    classification_rf = classification_report(y_test,y_test_pred,target_names=['nevus','melanoma','seborrheic_keratosis'])\n",
    "    confusion_matrix_rf = confusion_matrix(y_test,y_test_pred)\n",
    "    print(confusion_matrix_rf)\n",
    "    print(classification_rf)"
   ]
  }
 ],
 "metadata": {
  "kernelspec": {
   "display_name": "gollum",
   "language": "python",
   "name": "python3"
  },
  "language_info": {
   "codemirror_mode": {
    "name": "ipython",
    "version": 3
   },
   "file_extension": ".py",
   "mimetype": "text/x-python",
   "name": "python",
   "nbconvert_exporter": "python",
   "pygments_lexer": "ipython3",
   "version": "3.9.19"
  }
 },
 "nbformat": 4,
 "nbformat_minor": 2
}
