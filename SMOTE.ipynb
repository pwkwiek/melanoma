{
 "cells": [
  {
   "cell_type": "code",
   "execution_count": 1,
   "metadata": {},
   "outputs": [],
   "source": [
    "import numpy as np\n",
    "import os\n",
    "import os.path\n",
    "import numpy as np\n",
    "from keras.preprocessing.image import ImageDataGenerator\n",
    "from keras.utils import array_to_img"
   ]
  },
  {
   "cell_type": "code",
   "execution_count": 2,
   "metadata": {},
   "outputs": [
    {
     "name": "stdout",
     "output_type": "stream",
     "text": [
      "Found 2000 images belonging to 3 classes.\n",
      "(2000, 200, 300, 3)\n",
      "(2000, 3)\n"
     ]
    }
   ],
   "source": [
    "imagegen = ImageDataGenerator()\n",
    "\n",
    "#resize\n",
    "img_size_1=200\n",
    "img_size_2=300\n",
    "\n",
    "# load train data\n",
    "train_generator=imagegen.flow_from_directory(\"E:/melanoma/skin-lesions/train\", class_mode=\"categorical\", shuffle=False, target_size=(img_size_1, img_size_2))\n",
    "x=np.concatenate([train_generator.next()[0] for i in range(train_generator.__len__())])\n",
    "y=np.concatenate([train_generator.next()[1] for i in range(train_generator.__len__())])\n",
    "print(x.shape)\n",
    "print(y.shape)\n",
    "#Converting  our color images to a vector\n",
    "X_train=x.reshape(len(x),img_size_1*img_size_2*3)"
   ]
  },
  {
   "cell_type": "code",
   "execution_count": 3,
   "metadata": {},
   "outputs": [],
   "source": [
    "#Apply SMOTE method \n",
    "from imblearn.over_sampling import SMOTE\n",
    "sm = SMOTE(random_state=2)\n",
    "X_smote, y_smote = sm.fit_resample(X_train, y)\n",
    "Xsmote_img=X_smote.reshape(len(X_smote),img_size_1,img_size_2,3)"
   ]
  },
  {
   "cell_type": "code",
   "execution_count": 4,
   "metadata": {},
   "outputs": [],
   "source": [
    "#Retrieve the image and save it\n",
    "#pil_img = array_to_img(Xsmote_img[80]* 255)\n",
    "#pil_img.save('C:/Users/User/Desktop/demo.jpg')"
   ]
  },
  {
   "cell_type": "code",
   "execution_count": 5,
   "metadata": {},
   "outputs": [
    {
     "name": "stdout",
     "output_type": "stream",
     "text": [
      "[0 0 0 ... 2 2 2]\n"
     ]
    }
   ],
   "source": [
    "# get class\n",
    "smote_id, smote_y = y_smote.nonzero()\n",
    "print(smote_y)"
   ]
  },
  {
   "cell_type": "code",
   "execution_count": 6,
   "metadata": {},
   "outputs": [],
   "source": [
    "#Save all images\n",
    "train_sep_dir='E:/melanoma/balanced/skin-lesions/train/'\n",
    "\n",
    "for i in range(len(Xsmote_img)):\n",
    "  pil_img = array_to_img(Xsmote_img[i]* 255)\n",
    "  pil_img.save(train_sep_dir + str(smote_y[i]) +'/'+ 'smote_'+ str(i) + '.jpg')"
   ]
  }
 ],
 "metadata": {
  "kernelspec": {
   "display_name": "gollum",
   "language": "python",
   "name": "python3"
  },
  "language_info": {
   "codemirror_mode": {
    "name": "ipython",
    "version": 3
   },
   "file_extension": ".py",
   "mimetype": "text/x-python",
   "name": "python",
   "nbconvert_exporter": "python",
   "pygments_lexer": "ipython3",
   "version": "3.9.19"
  }
 },
 "nbformat": 4,
 "nbformat_minor": 2
}
